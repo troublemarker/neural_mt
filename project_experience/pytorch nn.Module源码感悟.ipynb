{
 "cells": [
  {
   "cell_type": "code",
   "execution_count": null,
   "metadata": {
    "collapsed": true
   },
   "outputs": [],
   "source": [
    "我们用pytorch定义自己的神经网络类时，会继承自nn.Module，那么当你构建了多层\n",
    "神经网络时，pytorch又是如何实现逐层调用呢？\n",
    "\n",
    "我们在nn.Module的子类的构造方法里将各个神经网络模块进行了实例化并作为属性，在\n",
    "forward方法里调用。这本质上是实现的是树的数据结构和深度优先遍历的方法。树上的\n",
    "节点是每个神经网络对象，构造方法里构造了树的一层节点。forward方法里调用每一个节点\n",
    "时，该节点又会调用自己forward方法里的每一个节点，因此是DFS。可见数据结构和算法\n",
    "太有用了，只要涉及到数据的存储和操作就属于数据结构和算法的范畴了。在oop语言中，\n",
    "数据类型本身就把数据和算法封装在了一起。数据类型本身可以作为树的一个节点，这个节点\n",
    "包含了数据和对数据的操作。\n",
    "\n",
    "进一步引申，物体本身是由底层模块到高层模块不断聚合而成的，比如人体包括器官，器官\n",
    "包括组织，组织包括细胞等。oop设计中也是如此构建对象的，归根到底这其实也是一个树结构，\n",
    "程序的调用过程就是一个树结构由高层到低层的传递控制权的过程，结果也是层层返回，这又很像\n",
    "神经网络的前向后向传播。依赖注入很符合这种树结构的调用方式。\n",
    "\n",
    "我曾听过一句话，“数据结构和算法要像呼吸一样熟练”，看来真的是如此。深刻的理解数据结构和\n",
    "算法就能很快看透解决问题的本质。\n",
    "\n",
    "\n"
   ]
  }
 ],
 "metadata": {
  "kernelspec": {
   "display_name": "Python 3",
   "language": "python",
   "name": "python3"
  },
  "language_info": {
   "codemirror_mode": {
    "name": "ipython",
    "version": 2
   },
   "file_extension": ".py",
   "mimetype": "text/x-python",
   "name": "python",
   "nbconvert_exporter": "python",
   "pygments_lexer": "ipython2",
   "version": "2.7.6"
  }
 },
 "nbformat": 4,
 "nbformat_minor": 0
}