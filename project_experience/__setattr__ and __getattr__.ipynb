{
 "cells": [
  {
   "cell_type": "code",
   "execution_count": 1,
   "metadata": {
    "collapsed": true
   },
   "outputs": [],
   "source": [
    "# 在类的构造方法中定义属性时，默认会把属性名和值当做键值对放在一个字典中，可以通过该对象的\n",
    "# __dict__查看，当我们相对属性赋值操作进行拦截时，可以自定义__setattr__方法实现"
   ]
  },
  {
   "cell_type": "code",
   "execution_count": 3,
   "outputs": [
    {
     "name": "stdout",
     "output_type": "stream",
     "text": [
      "{'name': 'zhangsan', 'age': 18}\n"
     ]
    }
   ],
   "source": [
    "class Student(object):\n",
    "    def __init__(self, name, age):\n",
    "        self.name = name\n",
    "        self.age = age\n",
    "\n",
    "s = Student(\"zhangsan\", 18)\n",
    "print(s.__dict__)\n"
   ],
   "metadata": {
    "collapsed": false,
    "pycharm": {
     "name": "#%%\n"
    }
   }
  },
  {
   "cell_type": "code",
   "execution_count": 4,
   "outputs": [
    {
     "name": "stdout",
     "output_type": "stream",
     "text": [
      "you define an attribute, its name is name and value is zhangsan\n",
      "postprocess\n",
      "you define an attribute, its name is age and value is 18\n",
      "postprocess\n",
      "{'name': 'zhangsan', 'age': 18}\n"
     ]
    }
   ],
   "source": [
    "# 要注意__setattr__内不要有赋值操作，否则就会出现无线递归调用__setattr__的情况，\n",
    "# 应该使用使用self.__dict__['name'] = value.\n",
    "class Student(object):\n",
    "    def __init__(self, name, age):\n",
    "        self.name = name\n",
    "        self.age = age\n",
    "\n",
    "    def __setattr__(self, key, value):\n",
    "        print(\"preprocess\")\n",
    "        print(\"you define an attribute, its name is %s and value is %s\" % (key, value))\n",
    "        self.__dict__[key] = value\n",
    "        print(\"postprocess\")\n",
    "\n",
    "s = Student(\"zhangsan\", 18)\n",
    "print(s.__dict__)\n",
    "\n",
    "# 像这种拦截操作对数据进行preprocess和postprocess的例子有很多，中间件就是这样一种思想\n",
    "# 同样在pytorch中，对tensor进行forward计算前后，会先调用hook函数对tensor进行操作"
   ],
   "metadata": {
    "collapsed": false,
    "pycharm": {
     "name": "#%%\n"
    }
   }
  },
  {
   "cell_type": "code",
   "execution_count": 16,
   "outputs": [
    {
     "name": "stdout",
     "output_type": "stream",
     "text": [
      "{'container': {'container': {...}, 'child': <__main__.Father object at 0x0000026C22EEC0D0>}, 'child': <__main__.Father object at 0x0000026C22EEC0D0>}\n"
     ]
    }
   ],
   "source": [
    "# 我们利用__setattr__方法可以构建一类对象的数据结构\n",
    "\n",
    "class Ancestor(object):\n",
    "    def __init__(self):\n",
    "        self.container = {}\n",
    "\n",
    "    def __setattr__(self, key, value):\n",
    "        self.__dict__[key] = value\n",
    "        self.__dict__['container'][key] = value \n",
    "\n",
    "class Son(Ancestor):\n",
    "    def __init__(self, name):\n",
    "        super(Son,self).__init__()\n",
    "        self.name = name\n",
    "\n",
    "class Father(Ancestor):\n",
    "    def __init__(self):\n",
    "        super(Father, self).__init__()\n",
    "        self.child = Son(\"xiaoming\")\n",
    "\n",
    "\n",
    "class GrandFather(Ancestor):\n",
    "    def __init__(self):\n",
    "        super(GrandFather, self).__init__()\n",
    "        self.child = Father()\n",
    "\n",
    "grand_father = GrandFather()\n",
    "print(grand_father.__dict__)\n",
    "# print(\"23\")\n",
    "# grand_father = GrandFather()\n",
    "# print(\"test\")\n",
    "# print(grand_father.container)\n",
    "# print(\"over\")"
   ],
   "metadata": {
    "collapsed": false,
    "pycharm": {
     "name": "#%%\n"
    }
   }
  },
  {
   "cell_type": "code",
   "execution_count": null,
   "outputs": [],
   "source": [
    "\n"
   ],
   "metadata": {
    "collapsed": false,
    "pycharm": {
     "name": "#%%\n"
    }
   }
  }
 ],
 "metadata": {
  "kernelspec": {
   "display_name": "Python 3",
   "language": "python",
   "name": "python3"
  },
  "language_info": {
   "codemirror_mode": {
    "name": "ipython",
    "version": 2
   },
   "file_extension": ".py",
   "mimetype": "text/x-python",
   "name": "python",
   "nbconvert_exporter": "python",
   "pygments_lexer": "ipython2",
   "version": "2.7.6"
  }
 },
 "nbformat": 4,
 "nbformat_minor": 0
}